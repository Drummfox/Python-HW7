{
 "cells": [
  {
   "cell_type": "code",
   "execution_count": 224,
   "id": "dcf2faab",
   "metadata": {},
   "outputs": [],
   "source": [
    "import requests\n",
    "\n",
    "class Rate:\n",
    "    def __init__(self, format_ = 'value', diff = False):\n",
    "        self.format = format_\n",
    "        self.diff = diff\n",
    "        \n",
    "    def exchange_rates(self):\n",
    "        '''Возвращает ответ от сервиса'''\n",
    "        self.r = requests.get('https://www.cbr-xml-daily.ru/daily_json.js')\n",
    "        return self.r.json()['Valute']\n",
    "    def make_format(self, currency):\n",
    "        '''\n",
    "        Возвращает информацию о валюте currency\n",
    "        '''\n",
    "    \n",
    "        response = self.exchange_rates()\n",
    "        if currency in response:\n",
    "            if self.format == 'full':\n",
    "                return response[currency]\n",
    "            if self.format == 'value' and self.diff == False:\n",
    "                return response[currency]['Value']\n",
    "            elif self.format == 'value' and self.diff == True:\n",
    "                pr_value = response[currency]['Previous']\n",
    "                cur_value = response[currency]['Value']\n",
    "                diff_ = cur_value - pr_value\n",
    "                return diff_\n",
    "        return 'Error'\n",
    "      \n",
    "    def eur(self):            \n",
    "        return self.make_format('EUR')\n",
    "    \n",
    "    def max_name(self):\n",
    "        response = self.exchange_rates()\n",
    "        values = []\n",
    "        for value in response.values():\n",
    "            values.append(value['Value'])\n",
    "        max_values = max(values)\n",
    "        \n",
    "        for valute, value in response.items():\n",
    "            if value['Value'] == max_values:\n",
    "                return value['Name']\n",
    "        "
   ]
  },
  {
   "cell_type": "code",
   "execution_count": 230,
   "id": "4b531a94",
   "metadata": {},
   "outputs": [],
   "source": [
    "r = Rate()"
   ]
  },
  {
   "cell_type": "code",
   "execution_count": 231,
   "id": "1e98ec4c",
   "metadata": {},
   "outputs": [
    {
     "data": {
      "text/plain": [
       "65.6762"
      ]
     },
     "execution_count": 231,
     "metadata": {},
     "output_type": "execute_result"
    }
   ],
   "source": [
    "r.eur()\n"
   ]
  },
  {
   "cell_type": "code",
   "execution_count": 232,
   "id": "0f8e3a09",
   "metadata": {},
   "outputs": [
    {
     "data": {
      "text/plain": [
       "'Китайских юаней'"
      ]
     },
     "execution_count": 232,
     "metadata": {},
     "output_type": "execute_result"
    }
   ],
   "source": [
    "r.max_name()"
   ]
  },
  {
   "cell_type": "code",
   "execution_count": 222,
   "id": "3ae20c02",
   "metadata": {},
   "outputs": [],
   "source": [
    "class Employee:\n",
    "    def __init__(self, name, seniority):\n",
    "        self.name = name\n",
    "        self.seniority = seniority\n",
    "        \n",
    "        self.grade = 1\n",
    "    \n",
    "    def grade_up(self):\n",
    "        \"\"\"Повышает уровень сотрудника\"\"\"\n",
    "        self.grade += 1\n",
    "    \n",
    "    def publish_grade(self):\n",
    "        \"\"\"Публикация результатов аккредитации сотрудников\"\"\"\n",
    "        print(self.name, self.grade)\n",
    "    \n",
    "    def check_if_it_is_time_for_upgrade(self):\n",
    "        pass"
   ]
  },
  {
   "cell_type": "code",
   "execution_count": 117,
   "id": "0afb9b39",
   "metadata": {},
   "outputs": [],
   "source": [
    "class Developer(Employee):\n",
    "    def __init__(self, name, seniority):\n",
    "        super().__init__(name, seniority)\n",
    "    \n",
    "    def check_if_it_is_time_for_upgrade(self):\n",
    "        # для каждой аккредитации увеличиваем счетчик на 1\n",
    "        # пока считаем, что все разработчики проходят аккредитацию\n",
    "        self.seniority += 1\n",
    "        \n",
    "        # условие повышения сотрудника из презентации\n",
    "        if self.seniority % 5 == 0:\n",
    "            self.grade_up()\n",
    "        \n",
    "        # публикация результатов\n",
    "        return self.publish_grade()"
   ]
  },
  {
   "cell_type": "code",
   "execution_count": 118,
   "id": "bbd7b81b",
   "metadata": {},
   "outputs": [],
   "source": [
    "ivan = Developer('Иван', 0)"
   ]
  },
  {
   "cell_type": "code",
   "execution_count": 229,
   "id": "73c5ffba",
   "metadata": {},
   "outputs": [
    {
     "name": "stdout",
     "output_type": "stream",
     "text": [
      "Иван 4\n",
      "Иван 4\n",
      "Иван 4\n",
      "Иван 4\n",
      "Иван 4\n",
      "Иван 5\n",
      "Иван 5\n",
      "Иван 5\n",
      "Иван 5\n",
      "Иван 5\n"
     ]
    }
   ],
   "source": [
    "for i in range(10):\n",
    "    ivan.check_if_it_is_time_for_upgrade()"
   ]
  },
  {
   "cell_type": "code",
   "execution_count": 198,
   "id": "fa997e53",
   "metadata": {},
   "outputs": [],
   "source": [
    "class Designer(Employee):\n",
    "    def __init__(self, name, seniority, international_award):\n",
    "        super().__init__(name, seniority)\n",
    "        self.international_award = international_award\n",
    "        \n",
    "    def check_if_it_is_time_for_upgrade(self):\n",
    "        self.seniority += 1\n",
    "        if (self.seniority + 2 * self.international_award) % 7 == 0:\n",
    "            self.grade_up()\n",
    "            \n",
    "        return self.publish_grade()\n",
    "            "
   ]
  },
  {
   "cell_type": "code",
   "execution_count": 199,
   "id": "457363dd",
   "metadata": {},
   "outputs": [],
   "source": [
    "alex = Designer('Саша', 0, 2)"
   ]
  },
  {
   "cell_type": "code",
   "execution_count": 201,
   "id": "72551d3b",
   "metadata": {},
   "outputs": [
    {
     "name": "stdout",
     "output_type": "stream",
     "text": [
      "Саша 3\n",
      "Саша 4\n",
      "Саша 4\n",
      "Саша 4\n",
      "Саша 4\n",
      "Саша 4\n",
      "Саша 4\n",
      "Саша 4\n",
      "Саша 5\n",
      "Саша 5\n",
      "Саша 5\n",
      "Саша 5\n",
      "Саша 5\n",
      "Саша 5\n",
      "Саша 5\n"
     ]
    }
   ],
   "source": [
    "for i in range(15):\n",
    "    alex.check_if_it_is_time_for_upgrade()"
   ]
  },
  {
   "cell_type": "code",
   "execution_count": 218,
   "id": "41f7e364",
   "metadata": {},
   "outputs": [],
   "source": [
    "vasili = Designer('Василий', 0, 3)"
   ]
  },
  {
   "cell_type": "code",
   "execution_count": 219,
   "id": "22237ad6",
   "metadata": {},
   "outputs": [
    {
     "name": "stdout",
     "output_type": "stream",
     "text": [
      "Василий 2\n",
      "Василий 2\n",
      "Василий 2\n",
      "Василий 2\n",
      "Василий 2\n",
      "Василий 2\n",
      "Василий 2\n",
      "Василий 3\n",
      "Василий 3\n",
      "Василий 3\n",
      "Василий 3\n",
      "Василий 3\n",
      "Василий 3\n",
      "Василий 3\n",
      "Василий 4\n"
     ]
    }
   ],
   "source": [
    "for i in range(15):\n",
    "    vasili.check_if_it_is_time_for_upgrade()"
   ]
  },
  {
   "cell_type": "code",
   "execution_count": null,
   "id": "b781d1f4",
   "metadata": {},
   "outputs": [],
   "source": []
  },
  {
   "cell_type": "code",
   "execution_count": 94,
   "id": "681ecff3",
   "metadata": {},
   "outputs": [
    {
     "data": {
      "text/plain": [
       "-0.22040000000001214"
      ]
     },
     "execution_count": 94,
     "metadata": {},
     "output_type": "execute_result"
    }
   ],
   "source": [
    "r.make_format('EUR')"
   ]
  },
  {
   "cell_type": "code",
   "execution_count": null,
   "id": "0b2a5786",
   "metadata": {},
   "outputs": [],
   "source": []
  }
 ],
 "metadata": {
  "kernelspec": {
   "display_name": "Python 3 (ipykernel)",
   "language": "python",
   "name": "python3"
  },
  "language_info": {
   "codemirror_mode": {
    "name": "ipython",
    "version": 3
   },
   "file_extension": ".py",
   "mimetype": "text/x-python",
   "name": "python",
   "nbconvert_exporter": "python",
   "pygments_lexer": "ipython3",
   "version": "3.9.13"
  }
 },
 "nbformat": 4,
 "nbformat_minor": 5
}
